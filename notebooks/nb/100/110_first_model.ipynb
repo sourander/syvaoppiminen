{
 "cells": [
  {
   "cell_type": "markdown",
   "id": "be9d4d91",
   "metadata": {},
   "source": [
    "# Naive MLP for MNIST with PyTorch\n",
    "\n",
    "This notebook implements a simple MLP for MNIST digit classification using PyTorch. The architecture mirrors the reference implementation (784-256-128-10) from PyImageSearch's Adrian Rosebrock (Deep Learning 4 Computer Vision with Python Volume 1). Key difference is that this uses PyTorch, not the old TensorFlow + Keras kombo. Also, this implementation uses both two different ways to visualize training progress:\n",
    "\n",
    "* Option A: Plot training history using matplotlib (stored in local variables)\n",
    "* Option B: Log training progress to TensorBoard (stored in files in `runs/` folder)\n",
    "\n",
    "This is nowhere near a state-of-the-art model, but serves as a good starting point for learning PyTorch basics.\n",
    "\n",
    "## Imports\n",
    "\n",
    "Note that it is a good idea to keep code organized even if you work with Notebook Cells. Instead of importing libraries all over the place, keep all imports in one cell at the top of the notebook."
   ]
  },
  {
   "cell_type": "code",
   "execution_count": 44,
   "id": "a3ffc2e3",
   "metadata": {},
   "outputs": [],
   "source": [
    "import torch\n",
    "import numpy as np\n",
    "import torch.optim as optim\n",
    "import matplotlib.pyplot as plt\n",
    "import datetime\n",
    "\n",
    "from pathlib import Path\n",
    "from torchvision import datasets, transforms\n",
    "from torch.utils.data import DataLoader\n",
    "import torch.nn as nn\n",
    "import torch.nn.functional as F\n",
    "from sklearn.metrics import classification_report\n",
    "from torch.utils.tensorboard import SummaryWriter"
   ]
  },
  {
   "cell_type": "markdown",
   "id": "35c8620a",
   "metadata": {},
   "source": [
    "## Teacher's setup\n",
    "\n",
    "This Notebook has been initially run with a Macbook Pro with M2 Max chip. The code should support MPS, CUDA and CPU execution. If you have some other backend, adjust the code accordingly."
   ]
  },
  {
   "cell_type": "code",
   "execution_count": 45,
   "id": "bcde1f35",
   "metadata": {},
   "outputs": [
    {
     "name": "stdout",
     "output_type": "stream",
     "text": [
      "PyTorch version: 2.8.0\n",
      "MPS available: True\n"
     ]
    }
   ],
   "source": [
    "print(\"PyTorch version:\", torch.__version__)\n",
    "print(\"MPS available:\", torch.backends.mps.is_available())"
   ]
  },
  {
   "cell_type": "markdown",
   "id": "95db99cc",
   "metadata": {},
   "source": [
    "### Configuration"
   ]
  },
  {
   "cell_type": "code",
   "execution_count": 46,
   "id": "9cbe38f2",
   "metadata": {},
   "outputs": [
    {
     "name": "stdout",
     "output_type": "stream",
     "text": [
      "Using device: cpu\n",
      "TensorBoard logging to: runs/mnist_mlp_cpu_20251002_161916\n"
     ]
    }
   ],
   "source": [
    "# Configuration\n",
    "USE_GPU = False  # Toggle this to False to use CPU instead\n",
    "\n",
    "# Hyperparameters\n",
    "LEARNING_RATE = 0.01\n",
    "EPOCHS = 100\n",
    "BATCH_SIZE = 128\n",
    "\n",
    "# Device selection\n",
    "if USE_GPU and torch.backends.mps.is_available():\n",
    "    device = torch.device(\"mps\")\n",
    "    print(f\"Using device: {device}\")\n",
    "elif torch.cuda.is_available():\n",
    "    device = torch.device(\"cuda\")\n",
    "    print(f\"Using device: {device}\")\n",
    "else:\n",
    "    device = torch.device(\"cpu\")\n",
    "    print(f\"Using device: {device}\")\n",
    "\n",
    "# Option B: TensorBoard setup for logging metrics to disk\n",
    "device_name = str(device)\n",
    "run_name = f\"mnist_mlp_{device_name}_{datetime.datetime.now().strftime('%Y%m%d_%H%M%S')}\"\n",
    "writer = SummaryWriter(f'runs/{run_name}')\n",
    "print(f\"TensorBoard logging to: runs/{run_name}\")\n",
    "\n",
    "# Option B: Log configuration information to TensorBoard\n",
    "writer.add_text('config/device', device_name)\n",
    "writer.add_text('config/hyperparameters', \n",
    "                f'LR: {LEARNING_RATE}, Batch: {BATCH_SIZE}, Epochs: {EPOCHS}')"
   ]
  },
  {
   "cell_type": "markdown",
   "id": "de7ce3d6",
   "metadata": {},
   "source": [
    "### Load and Prepare Data"
   ]
  },
  {
   "cell_type": "code",
   "execution_count": 47,
   "id": "2ae7e3ae",
   "metadata": {},
   "outputs": [
    {
     "name": "stdout",
     "output_type": "stream",
     "text": [
      "[INFO] accessing MNIST...\n",
      "Training samples: 60000\n",
      "Test samples: 10000\n"
     ]
    }
   ],
   "source": [
    "# Define transforms\n",
    "transform = transforms.Compose([\n",
    "    transforms.ToTensor(),\n",
    "    transforms.Normalize((0.1307,), (0.3081,))  # MNIST mean and std\n",
    "])\n",
    "\n",
    "# Download and load the training data\n",
    "print(\"[INFO] accessing MNIST...\")\n",
    "trainset = datasets.MNIST('./data', download=True, train=True, transform=transform)\n",
    "testset = datasets.MNIST('./data', download=True, train=False, transform=transform)\n",
    "\n",
    "# Create data loaders\n",
    "trainloader = DataLoader(trainset, batch_size=BATCH_SIZE, shuffle=True)\n",
    "testloader = DataLoader(testset, batch_size=BATCH_SIZE, shuffle=False)\n",
    "\n",
    "print(f\"Training samples: {len(trainset)}\")\n",
    "print(f\"Test samples: {len(testset)}\")"
   ]
  },
  {
   "cell_type": "code",
   "execution_count": 55,
   "id": "0b24e939",
   "metadata": {},
   "outputs": [
    {
     "name": "stdout",
     "output_type": "stream",
     "text": [
      "MNIST classes: ['0 - zero', '1 - one', '2 - two', '3 - three', '4 - four', '5 - five', '6 - six', '7 - seven', '8 - eight', '9 - nine']\n",
      "Class to index mapping: {'0 - zero': 0, '1 - one': 1, '2 - two': 2, '3 - three': 3, '4 - four': 4, '5 - five': 5, '6 - six': 6, '7 - seven': 7, '8 - eight': 8, '9 - nine': 9}\n",
      "\n",
      "Verification: Labels are digits 0-9 in order\n"
     ]
    }
   ],
   "source": [
    "# Verify class labels\n",
    "# MNIST labels are digits 0-9, where the label directly corresponds to the digit\n",
    "print(\"MNIST classes:\", trainset.classes)\n",
    "print(\"Class to index mapping:\", trainset.class_to_idx)\n",
    "print(\"\\nVerification: Labels are digits 0-9 in order\")"
   ]
  },
  {
   "cell_type": "markdown",
   "id": "0291110d",
   "metadata": {},
   "source": [
    "### Define the Model\n",
    "\n",
    "The model architecture is 784-256-128-10, matching the reference implementation."
   ]
  },
  {
   "cell_type": "code",
   "execution_count": 48,
   "id": "cc4feb15",
   "metadata": {},
   "outputs": [
    {
     "name": "stdout",
     "output_type": "stream",
     "text": [
      "MLP(\n",
      "  (fc1): Linear(in_features=784, out_features=256, bias=True)\n",
      "  (fc2): Linear(in_features=256, out_features=128, bias=True)\n",
      "  (fc3): Linear(in_features=128, out_features=10, bias=True)\n",
      ")\n",
      "Model graph logged to TensorBoard\n"
     ]
    }
   ],
   "source": [
    "class MLP(nn.Module):\n",
    "    def __init__(self):\n",
    "        super(MLP, self).__init__()\n",
    "        # 784-256-128-10 architecture\n",
    "        self.fc1 = nn.Linear(784, 256)\n",
    "        self.fc2 = nn.Linear(256, 128)\n",
    "        self.fc3 = nn.Linear(128, 10)\n",
    "    \n",
    "    def forward(self, x):\n",
    "        # Flatten the input\n",
    "        x = x.view(-1, 784)\n",
    "        # First layer with sigmoid activation\n",
    "        x = torch.sigmoid(self.fc1(x))\n",
    "        # Second layer with sigmoid activation\n",
    "        x = torch.sigmoid(self.fc2(x))\n",
    "        # Output layer with softmax (will use cross entropy loss which includes softmax)\n",
    "        x = self.fc3(x)\n",
    "        return x\n",
    "\n",
    "# Initialize the model and move to device\n",
    "model = MLP().to(device)\n",
    "print(model)\n",
    "\n",
    "# Option B: Log model architecture graph to TensorBoard\n",
    "dummy_input = torch.randn(1, 1, 28, 28).to(device)\n",
    "writer.add_graph(model, dummy_input)\n",
    "print(\"Model graph logged to TensorBoard\")"
   ]
  },
  {
   "cell_type": "markdown",
   "id": "64b9ab8f",
   "metadata": {},
   "source": [
    "### Train the Model"
   ]
  },
  {
   "cell_type": "code",
   "execution_count": 49,
   "id": "376fc930",
   "metadata": {},
   "outputs": [
    {
     "name": "stdout",
     "output_type": "stream",
     "text": [
      "[INFO] training network...\n",
      "Epoch [10/100] - Train Loss: 0.7644, Train Acc: 0.8073, Val Loss: 0.7094, Val Acc: 0.8217\n",
      "Epoch [20/100] - Train Loss: 0.4144, Train Acc: 0.8872, Val Loss: 0.3941, Val Acc: 0.8903\n",
      "Epoch [30/100] - Train Loss: 0.3342, Train Acc: 0.9060, Val Loss: 0.3202, Val Acc: 0.9081\n",
      "Epoch [40/100] - Train Loss: 0.2903, Train Acc: 0.9173, Val Loss: 0.2798, Val Acc: 0.9188\n",
      "Epoch [50/100] - Train Loss: 0.2568, Train Acc: 0.9261, Val Loss: 0.2497, Val Acc: 0.9270\n",
      "Epoch [60/100] - Train Loss: 0.2290, Train Acc: 0.9340, Val Loss: 0.2251, Val Acc: 0.9343\n",
      "Epoch [70/100] - Train Loss: 0.2056, Train Acc: 0.9407, Val Loss: 0.2030, Val Acc: 0.9407\n",
      "Epoch [80/100] - Train Loss: 0.1857, Train Acc: 0.9473, Val Loss: 0.1852, Val Acc: 0.9457\n",
      "Epoch [90/100] - Train Loss: 0.1687, Train Acc: 0.9518, Val Loss: 0.1699, Val Acc: 0.9499\n",
      "Epoch [100/100] - Train Loss: 0.1540, Train Acc: 0.9565, Val Loss: 0.1565, Val Acc: 0.9538\n",
      "[INFO] training complete!\n",
      "TensorBoard logs saved!\n"
     ]
    }
   ],
   "source": [
    "# Loss function and optimizer\n",
    "criterion = nn.CrossEntropyLoss()\n",
    "optimizer = optim.SGD(model.parameters(), lr=LEARNING_RATE)\n",
    "\n",
    "# Option A: Initialize local history dictionary to store metrics in memory\n",
    "history = {\n",
    "    'train_loss': [],\n",
    "    'train_acc': [],\n",
    "    'val_loss': [],\n",
    "    'val_acc': []\n",
    "}\n",
    "\n",
    "print(\"[INFO] training network...\")\n",
    "for epoch in range(EPOCHS):\n",
    "    # Training phase\n",
    "    model.train()\n",
    "    train_loss = 0.0\n",
    "    train_correct = 0\n",
    "    train_total = 0\n",
    "    \n",
    "    for batch_idx, (inputs, labels) in enumerate(trainloader):\n",
    "        # Move data to device\n",
    "        inputs, labels = inputs.to(device), labels.to(device)\n",
    "        \n",
    "        # Zero the parameter gradients\n",
    "        optimizer.zero_grad()\n",
    "        \n",
    "        # Forward pass\n",
    "        outputs = model(inputs)\n",
    "        loss = criterion(outputs, labels)\n",
    "        \n",
    "        # Backward pass and optimize\n",
    "        loss.backward()\n",
    "        optimizer.step()\n",
    "        \n",
    "        # Statistics\n",
    "        train_loss += loss.item()\n",
    "        _, predicted = torch.max(outputs.data, 1)\n",
    "        train_total += labels.size(0)\n",
    "        train_correct += (predicted == labels).sum().item()\n",
    "        \n",
    "        # Option B: Log batch-level loss to TensorBoard every 50 batches\n",
    "        if batch_idx % 50 == 0:\n",
    "            global_step = epoch * len(trainloader) + batch_idx\n",
    "            writer.add_scalar('Loss/train_batch', loss.item(), global_step)\n",
    "    \n",
    "    # Validation phase\n",
    "    model.eval()\n",
    "    val_loss = 0.0\n",
    "    val_correct = 0\n",
    "    val_total = 0\n",
    "    \n",
    "    with torch.no_grad():\n",
    "        for inputs, labels in testloader:\n",
    "            inputs, labels = inputs.to(device), labels.to(device)\n",
    "            outputs = model(inputs)\n",
    "            loss = criterion(outputs, labels)\n",
    "            \n",
    "            val_loss += loss.item()\n",
    "            _, predicted = torch.max(outputs.data, 1)\n",
    "            val_total += labels.size(0)\n",
    "            val_correct += (predicted == labels).sum().item()\n",
    "    \n",
    "    # Calculate averages\n",
    "    train_loss = train_loss / len(trainloader)\n",
    "    train_acc = train_correct / train_total\n",
    "    val_loss = val_loss / len(testloader)\n",
    "    val_acc = val_correct / val_total\n",
    "    \n",
    "    # Option A: Append epoch metrics to local history lists\n",
    "    history['train_loss'].append(train_loss)\n",
    "    history['train_acc'].append(train_acc)\n",
    "    history['val_loss'].append(val_loss)\n",
    "    history['val_acc'].append(val_acc)\n",
    "    \n",
    "    # Option B: Log comparative metrics (train vs val) to TensorBoard\n",
    "    writer.add_scalars('Loss/train_vs_val', {\n",
    "        'train': train_loss,\n",
    "        'val': val_loss\n",
    "    }, epoch)\n",
    "    writer.add_scalars('Accuracy/train_vs_val', {\n",
    "        'train': train_acc,\n",
    "        'val': val_acc\n",
    "    }, epoch)\n",
    "    \n",
    "    # Print progress every 10 epochs\n",
    "    if (epoch + 1) % 10 == 0:\n",
    "        print(f\"Epoch [{epoch+1}/{EPOCHS}] - \"\n",
    "              f\"Train Loss: {train_loss:.4f}, Train Acc: {train_acc:.4f}, \"\n",
    "              f\"Val Loss: {val_loss:.4f}, Val Acc: {val_acc:.4f}\")\n",
    "\n",
    "print(\"[INFO] training complete!\")\n",
    "\n",
    "# Option B: Log final hyperparameters with results for comparison across runs\n",
    "writer.add_hparams(\n",
    "    {'lr': LEARNING_RATE, 'batch_size': BATCH_SIZE, 'epochs': EPOCHS, 'device': device_name},\n",
    "    {'hparam/final_train_acc': train_acc, 'hparam/final_val_acc': val_acc,\n",
    "     'hparam/final_train_loss': train_loss, 'hparam/final_val_loss': val_loss}\n",
    ")\n",
    "\n",
    "# Option B: Close the TensorBoard writer to flush all remaining data\n",
    "writer.close()\n",
    "print(\"TensorBoard logs saved!\")"
   ]
  },
  {
   "cell_type": "code",
   "execution_count": 50,
   "id": "51507a8a",
   "metadata": {},
   "outputs": [
    {
     "name": "stdout",
     "output_type": "stream",
     "text": [
      "Model saved to models/mnist_mlp_cpu_20251002_161916_model.pth\n"
     ]
    }
   ],
   "source": [
    "# Create models directory if it doesn't exist\n",
    "Path('models').mkdir(parents=True, exist_ok=True)\n",
    "\n",
    "# Save the model as state dict only. \n",
    "# We will use the runname to differentiate models.\n",
    "model_path = f'models/{run_name}_model.pth'\n",
    "torch.save(model.state_dict(), model_path)\n",
    "print(f\"Model saved to {model_path}\")"
   ]
  },
  {
   "cell_type": "markdown",
   "id": "7e01133f",
   "metadata": {},
   "source": [
    "### Evaluate the Model"
   ]
  },
  {
   "cell_type": "code",
   "execution_count": 51,
   "id": "127e1411",
   "metadata": {},
   "outputs": [
    {
     "name": "stdout",
     "output_type": "stream",
     "text": [
      "[INFO] evaluating network...\n",
      "              precision    recall  f1-score   support\n",
      "\n",
      "           0       0.95      0.99      0.97       980\n",
      "           1       0.98      0.98      0.98      1135\n",
      "           2       0.95      0.94      0.95      1032\n",
      "           3       0.95      0.95      0.95      1010\n",
      "           4       0.95      0.96      0.95       982\n",
      "           5       0.96      0.93      0.95       892\n",
      "           6       0.95      0.96      0.96       958\n",
      "           7       0.96      0.94      0.95      1028\n",
      "           8       0.94      0.94      0.94       974\n",
      "           9       0.95      0.93      0.94      1009\n",
      "\n",
      "    accuracy                           0.95     10000\n",
      "   macro avg       0.95      0.95      0.95     10000\n",
      "weighted avg       0.95      0.95      0.95     10000\n",
      "\n"
     ]
    }
   ],
   "source": [
    "from sklearn.metrics import classification_report\n",
    "import numpy as np\n",
    "\n",
    "print(\"[INFO] evaluating network...\")\n",
    "model.eval()\n",
    "\n",
    "all_predictions = []\n",
    "all_labels = []\n",
    "\n",
    "with torch.no_grad():\n",
    "    for inputs, labels in testloader:\n",
    "        inputs = inputs.to(device)\n",
    "        outputs = model(inputs)\n",
    "        _, predicted = torch.max(outputs.data, 1)\n",
    "        \n",
    "        all_predictions.extend(predicted.cpu().numpy())\n",
    "        all_labels.extend(labels.numpy())\n",
    "\n",
    "# Convert to numpy arrays\n",
    "all_predictions = np.array(all_predictions)\n",
    "all_labels = np.array(all_labels)\n",
    "\n",
    "# Print classification report\n",
    "print(classification_report(all_labels, all_predictions,\n",
    "                          target_names=[str(x) for x in range(10)]))"
   ]
  },
  {
   "cell_type": "markdown",
   "id": "fa6324a0",
   "metadata": {},
   "source": [
    "### Confusion Matrix"
   ]
  },
  {
   "cell_type": "code",
   "execution_count": 60,
   "id": "da7b600e",
   "metadata": {},
   "outputs": [
    {
     "name": "stdout",
     "output_type": "stream",
     "text": [
      "Confusion Matrix (rows=true, cols=predicted):\n",
      "         0     1     2     3     4     5     6     7     8     9\n",
      "    -----------------------------------------------------------------\n",
      " 0 |   966     0     1     1     0     4     5     1     2     0\n",
      " 1 |     0  1114     2     2     0     1     5     2     9     0\n",
      " 2 |     9     2   975     6     5     0    10     9    14     2\n",
      " 3 |     0     1    16   959     0    10     0    10    13     1\n",
      " 4 |     2     1     3     0   941     0    10     1     2    22\n",
      " 5 |     9     1     1    15     2   832    11     4    11     6\n",
      " 6 |     9     3     3     0     8     8   922     0     5     0\n",
      " 7 |     3     9    18     5     4     0     0   970     0    19\n",
      " 8 |     5     1     4    15     7     7     8     8   917     2\n",
      " 9 |     9     6     2     8    24     5     0    10     3   942\n"
     ]
    }
   ],
   "source": [
    "from sklearn.metrics import confusion_matrix\n",
    "\n",
    "# Define class names (MNIST digits 0-9)\n",
    "# In MNIST, the class labels are the actual digit values (0-9)\n",
    "# and they are already in the correct order\n",
    "class_names = [str(i) for i in range(10)]\n",
    "\n",
    "# Create confusion matrix\n",
    "cm = confusion_matrix(all_labels, all_predictions)\n",
    "\n",
    "# Option 1: Text-based confusion matrix (most compact)\n",
    "print(\"Confusion Matrix (rows=true, cols=predicted):\")\n",
    "print(\"     \", \"  \".join(f\"{i:4}\" for i in range(10)))\n",
    "print(\"    \" + \"-\" * 65)\n",
    "for i, row in enumerate(cm):\n",
    "    print(f\"{i:2} | \", \"  \".join(f\"{val:4}\" for val in row))"
   ]
  },
  {
   "cell_type": "markdown",
   "id": "2bbca155",
   "metadata": {},
   "source": [
    "### Visualize Training History"
   ]
  },
  {
   "cell_type": "code",
   "execution_count": 52,
   "id": "965c2a8b",
   "metadata": {},
   "outputs": [
    {
     "data": {
      "image/png": "[encoded data removed]",
      "text/plain": [
       "<Figure size 1000x600 with 1 Axes>"
      ]
     },
     "metadata": {},
     "output_type": "display_data"
    }
   ],
   "source": [
    "# Option A: Plot training history from local variables using matplotlib\n",
    "plt.style.use(\"ggplot\")\n",
    "plt.figure(figsize=(10, 6))\n",
    "plt.plot(np.arange(0, EPOCHS), history[\"train_loss\"], label=\"train_loss\")\n",
    "plt.plot(np.arange(0, EPOCHS), history[\"val_loss\"], label=\"val_loss\")\n",
    "plt.plot(np.arange(0, EPOCHS), history[\"train_acc\"], label=\"train_acc\")\n",
    "plt.plot(np.arange(0, EPOCHS), history[\"val_acc\"], label=\"val_acc\")\n",
    "plt.title(\"Training Loss and Accuracy\")\n",
    "plt.xlabel(\"Epoch #\")\n",
    "plt.ylabel(\"Loss/Accuracy\")\n",
    "plt.legend()\n",
    "plt.tight_layout()\n",
    "plt.show()"
   ]
  },
  {
   "cell_type": "markdown",
   "id": "77dc035e",
   "metadata": {},
   "source": [
    "### View TensorBoard\n",
    "\n",
    "**Option B: View TensorBoard logs in your browser**\n",
    "\n",
    "To view the training results in TensorBoard, run the following command in a terminal:\n",
    "\n",
    "```bash\n",
    "tensorboard --logdir=runs\n",
    "```\n",
    "\n",
    "Then open your browser to [http://localhost:6006](http://localhost:6006)\n",
    "\n",
    "TensorBoard will show:\n",
    "- **Scalars**: Training and validation loss/accuracy over time\n",
    "- **Graphs**: Model architecture visualization\n",
    "- **HParams**: Comparison of different runs with different hyperparameters\n",
    "- **Text**: Configuration information"
   ]
  }
 ],
 "metadata": {
  "kernelspec": {
   "display_name": "Syvaoppiminen I",
   "language": "python",
   "name": "nb-env"
  },
  "language_info": {
   "codemirror_mode": {
    "name": "ipython",
    "version": 3
   },
   "file_extension": ".py",
   "mimetype": "text/x-python",
   "name": "python",
   "nbconvert_exporter": "python",
   "pygments_lexer": "ipython3",
   "version": "3.13.5"
  }
 },
 "nbformat": 4,
 "nbformat_minor": 5
}
